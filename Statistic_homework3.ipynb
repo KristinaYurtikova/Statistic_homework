{
 "cells": [
  {
   "cell_type": "markdown",
   "id": "a7ce335b",
   "metadata": {},
   "source": [
    "Задание 1. Даны значения зарплат из выборки выпускников:\n",
    "100, 80, 75, 77, 89, 33, 45, 25, 65, 17, 30, 24, 57, 55, 70, 75, 65, 84, 90, 150. \n",
    "Посчитать (желательно без использования статистических методов наподобие std, var, mean) среднее арифметическое,\n",
    "среднее квадратичное отклонение, смещенную и несмещенную оценки дисперсий для данной выборки."
   ]
  },
  {
   "cell_type": "code",
   "execution_count": 10,
   "id": "fe89586b",
   "metadata": {},
   "outputs": [],
   "source": [
    "import numpy as np\n",
    "from math import factorial"
   ]
  },
  {
   "cell_type": "code",
   "execution_count": 11,
   "id": "9b6a2c9c",
   "metadata": {},
   "outputs": [
    {
     "data": {
      "text/plain": [
       "20"
      ]
     },
     "execution_count": 11,
     "metadata": {},
     "output_type": "execute_result"
    }
   ],
   "source": [
    "salaries = np.array([100, 80, 75, 77, 89, 33, 45, 25, 65, 17, 30, 24, 57, 55, 70, 75, 65, 84, 90, 150])\n",
    "salaries_len = len(salaries)\n",
    "salaries_len"
   ]
  },
  {
   "cell_type": "markdown",
   "id": "6fd81059",
   "metadata": {},
   "source": [
    "Cреднее арифметическое"
   ]
  },
  {
   "cell_type": "code",
   "execution_count": 12,
   "id": "2645371b",
   "metadata": {},
   "outputs": [
    {
     "data": {
      "text/plain": [
       "65.3"
      ]
     },
     "execution_count": 12,
     "metadata": {},
     "output_type": "execute_result"
    }
   ],
   "source": [
    "#среднее арифметическое\n",
    "arithmetic_mean = sum(salaries)/salaries_len\n",
    "arithmetic_mean "
   ]
  },
  {
   "cell_type": "markdown",
   "id": "6b71b763",
   "metadata": {},
   "source": [
    "Cреднее квадратичное отклонение"
   ]
  },
  {
   "cell_type": "code",
   "execution_count": 14,
   "id": "920d3a50",
   "metadata": {},
   "outputs": [
    {
     "data": {
      "text/plain": [
       "30.823854398825596"
      ]
     },
     "execution_count": 14,
     "metadata": {},
     "output_type": "execute_result"
    }
   ],
   "source": [
    "(np.sum((salaries - salaries_mean)**2) / salaries.size)**0.5"
   ]
  },
  {
   "cell_type": "markdown",
   "id": "f388f07d",
   "metadata": {},
   "source": [
    "Cмещенную дисперсию"
   ]
  },
  {
   "cell_type": "code",
   "execution_count": 8,
   "id": "8a288566",
   "metadata": {},
   "outputs": [
    {
     "data": {
      "text/plain": [
       "950.11"
      ]
     },
     "execution_count": 8,
     "metadata": {},
     "output_type": "execute_result"
    }
   ],
   "source": [
    "np.sum((salaries - salaries_mean)**2) / salaries.size"
   ]
  },
  {
   "cell_type": "markdown",
   "id": "524c6c52",
   "metadata": {},
   "source": [
    "Несмещенную дисперсию"
   ]
  },
  {
   "cell_type": "code",
   "execution_count": 9,
   "id": "ad5c4dbd",
   "metadata": {},
   "outputs": [
    {
     "data": {
      "text/plain": [
       "1000.1157894736842"
      ]
     },
     "execution_count": 9,
     "metadata": {},
     "output_type": "execute_result"
    }
   ],
   "source": [
    "np.sum((salaries - salaries_mean)**2) / (salaries.size - 1)"
   ]
  },
  {
   "cell_type": "markdown",
   "id": "b32326ac",
   "metadata": {},
   "source": [
    "2. В первом ящике находится 8 мячей, из которых 5 - белые. Во втором ящике - 12 мячей, из которых 5 белых. \n",
    "Из первого ящика вытаскивают случайным образом два мяча, из второго - 4. Какова вероятность того, что 3 мяча белые?"
   ]
  },
  {
   "cell_type": "code",
   "execution_count": 15,
   "id": "dd5d1e4a",
   "metadata": {},
   "outputs": [],
   "source": [
    "#Всего три альтернативных варианта:\n",
    "#1. Из первой 2 белых, из второй 1 белый, 3 черных\n",
    "#2. Из первой 1 белый, 1 черный, из второй 2 белых, 2 черных\n",
    "#3. Из первой 0 белых, 2 черных, из второй 3 белых, 1 черный\n",
    "# Вероятности всех трех варинатов складываются по формуле полной вероятности.\n",
    "\n",
    "def combinations(n, k):\n",
    "    return int(factorial(n) / (factorial(k) * factorial(n - k)))"
   ]
  },
  {
   "cell_type": "code",
   "execution_count": 16,
   "id": "d6b16cdc",
   "metadata": {},
   "outputs": [
    {
     "data": {
      "text/plain": [
       "0.12626262626262627"
      ]
     },
     "execution_count": 16,
     "metadata": {},
     "output_type": "execute_result"
    }
   ],
   "source": [
    "#1 Вариант\n",
    "#1. Из первой 2 белых, из второй 1 белый, 3 черных\n",
    "\n",
    "P1_var_1 = combinations(5, 2) / combinations(8, 2)\n",
    "\n",
    "P2_var_1 = combinations(5, 1) * combinations(7, 3) / combinations(12, 4)\n",
    "\n",
    "P_var_1 = P1_var_1 * P2_var_1\n",
    "\n",
    "P_var_1"
   ]
  },
  {
   "cell_type": "code",
   "execution_count": 17,
   "id": "c5155099",
   "metadata": {},
   "outputs": [
    {
     "data": {
      "text/plain": [
       "0.22727272727272727"
      ]
     },
     "execution_count": 17,
     "metadata": {},
     "output_type": "execute_result"
    }
   ],
   "source": [
    "#2 Вариант\n",
    "#2. Из первой 1 белый, 1 черный, из второй 2 белых, 2 черных\n",
    "\n",
    "P1_var_2 = combinations(5, 1) * combinations(3, 1) / combinations(8, 2)\n",
    "\n",
    "P2_var_2 = combinations(5, 2) * combinations(7, 2) / combinations(12, 4)\n",
    "\n",
    "P_var_2 = P1_var_2 * P2_var_2\n",
    "\n",
    "P_var_2"
   ]
  },
  {
   "cell_type": "code",
   "execution_count": 18,
   "id": "2f69b1ef",
   "metadata": {},
   "outputs": [
    {
     "data": {
      "text/plain": [
       "0.01515151515151515"
      ]
     },
     "execution_count": 18,
     "metadata": {},
     "output_type": "execute_result"
    }
   ],
   "source": [
    "#3 Вариант\n",
    "#3. Из первой 0 белых, 2 черных, из второй 3 белых, 1 черный\n",
    "\n",
    "P1_var_3 = combinations(3, 2) / combinations(8, 2)\n",
    "\n",
    "P2_var_3 = combinations(5, 3) * combinations(7, 1) / combinations(12, 4)\n",
    "\n",
    "P_var_3 = P1_var_3 * P2_var_3\n",
    "\n",
    "P_var_3"
   ]
  },
  {
   "cell_type": "code",
   "execution_count": 19,
   "id": "4d0b6a8b",
   "metadata": {},
   "outputs": [
    {
     "data": {
      "text/plain": [
       "0.3686868686868687"
      ]
     },
     "execution_count": 19,
     "metadata": {},
     "output_type": "execute_result"
    }
   ],
   "source": [
    "P_task_2 = P_var_1 + P_var_2 + P_var_3\n",
    "P_task_2"
   ]
  },
  {
   "cell_type": "markdown",
   "id": "064e7631",
   "metadata": {},
   "source": [
    "3. На соревновании по биатлону один из трех спортсменов стреляет и попадает в мишень. Вероятность попадания для первого спортсмена равна 0.9, для второго — 0.8, для третьего — 0.6. \n",
    "Найти вероятность того, что выстрел произведен: a). первым спортсменом б). вторым спортсменом в). третьим спортсменом."
   ]
  },
  {
   "cell_type": "markdown",
   "id": "bd546d7f",
   "metadata": {},
   "source": [
    "A - попадание в мишень\n",
    "\n",
    "P(B1) = 1/3 - вероятность, что стрелять будет первый спортсмен\n",
    "\n",
    "P(B2) = 1/3 - вероятность, что стрелять будет второй спортсмен\n",
    "\n",
    "P(B3) = 1/3 - вероятность, что стрелять будет третий спортсмен\n",
    "\n",
    "P(A|B1) = 0,9 - вероятность попадания у первого спортсмена\n",
    "\n",
    "P(A|B2) = 0,8 - вероятность попадания у второго спортсмена\n",
    "\n",
    "P(A|B3) = 0,6 - вероятность попадания у третьего спортсмена"
   ]
  },
  {
   "cell_type": "code",
   "execution_count": 22,
   "id": "40c619d0",
   "metadata": {},
   "outputs": [
    {
     "data": {
      "text/plain": [
       "0.7666666666666666"
      ]
     },
     "execution_count": 22,
     "metadata": {},
     "output_type": "execute_result"
    }
   ],
   "source": [
    "# общая вероятность попадания\n",
    "P_A = (1/3) * 0.9 + (1/3) * 0.8 + (1/3) * 0.6\n",
    "P_A"
   ]
  },
  {
   "cell_type": "code",
   "execution_count": 23,
   "id": "3b08c5a5",
   "metadata": {},
   "outputs": [
    {
     "data": {
      "text/plain": [
       "0.391304347826087"
      ]
     },
     "execution_count": 23,
     "metadata": {},
     "output_type": "execute_result"
    }
   ],
   "source": [
    "# a. Найти вероятность того, что выстрел произведен первым спортсменом\n",
    "P_B1_A  = ((1/3) * 0.9) / P_A\n",
    "P_B1_A"
   ]
  },
  {
   "cell_type": "code",
   "execution_count": 24,
   "id": "5358483b",
   "metadata": {},
   "outputs": [
    {
     "data": {
      "text/plain": [
       "0.3478260869565218"
      ]
     },
     "execution_count": 24,
     "metadata": {},
     "output_type": "execute_result"
    }
   ],
   "source": [
    "# б. Найти вероятность того, что выстрел произведен вторым спортсменом\n",
    "P_B2_A  = ((1/3) * 0.8) / P_A\n",
    "P_B2_A"
   ]
  },
  {
   "cell_type": "code",
   "execution_count": 25,
   "id": "1daf4e30",
   "metadata": {},
   "outputs": [
    {
     "data": {
      "text/plain": [
       "0.2608695652173913"
      ]
     },
     "execution_count": 25,
     "metadata": {},
     "output_type": "execute_result"
    }
   ],
   "source": [
    "# в. Найти вероятность того, что выстрел произведен третьим спортсменом\n",
    "P_B3_A  = ((1/3) * 0.6) / P_A\n",
    "P_B3_A"
   ]
  },
  {
   "cell_type": "markdown",
   "id": "b2a0d4ef",
   "metadata": {},
   "source": [
    "В университет на факультеты A и B поступило равное количество студентов, а на факультет C студентов поступило столько же, сколько на A и B вместе. \n",
    "Вероятность того, что студент факультета A сдаст первую сессию, равна 0.8. \n",
    "Для студента факультета B эта вероятность равна 0.7, а для студента факультета C - 0.9. Студент сдал первую сессию. \n",
    "Какова вероятность, что он учится: a). на факультете A б). на факультете B в). на факультете C?"
   ]
  },
  {
   "cell_type": "markdown",
   "id": "d8cc1145",
   "metadata": {},
   "source": [
    "Так как событие - сдача сессии студентом уже произошло, будем использовать формулу Байеса:\n",
    "    \n",
    " \n",
    "  <mi>P</mi>\n",
    "  <mo stretchy=\"false\">(</mo>\n",
    "  <mi>B</mi>\n",
    "  <mstyle>\n",
    "    <mspace width=\"0.222em\"></mspace>\n",
    "  </mstyle>\n",
    "  <mo data-mjx-texclass=\"ORD\" stretchy=\"false\">|</mo>\n",
    "  <mstyle>\n",
    "    <mspace width=\"0.222em\"></mspace>\n",
    "  </mstyle>\n",
    "  <mi>A</mi>\n",
    "  <mo stretchy=\"false\">)</mo>\n",
    "  <mo>=</mo>\n",
    "  <mfrac>\n",
    "    <mrow>\n",
    "      <mi>P</mi>\n",
    "      <mo stretchy=\"false\">(</mo>\n",
    "      <mi>B</mi>\n",
    "      <mo stretchy=\"false\">)</mo>\n",
    "      <mo>&#x22C5;</mo>\n",
    "      <mi>P</mi>\n",
    "      <mo stretchy=\"false\">(</mo>\n",
    "      <mi>A</mi>\n",
    "      <mstyle>\n",
    "        <mspace width=\"0.222em\"></mspace>\n",
    "      </mstyle>\n",
    "      <mo data-mjx-texclass=\"ORD\" stretchy=\"false\">|</mo>\n",
    "      <mstyle>\n",
    "        <mspace width=\"0.222em\"></mspace>\n",
    "      </mstyle>\n",
    "      <mi>B</mi>\n",
    "      <mo stretchy=\"false\">)</mo>\n",
    "    </mrow>\n",
    "    <mrow>\n",
    "      <mi>P</mi>\n",
    "      <mo stretchy=\"false\">(</mo>\n",
    "      <mi>A</mi>\n",
    "      <mo stretchy=\"false\">)</mo>\n",
    "    </mrow>\n",
    "  </mfrac>\n",
    "</math>\n",
    "\n"
   ]
  },
  {
   "cell_type": "markdown",
   "id": "477a9de3",
   "metadata": {},
   "source": [
    "A - сдача сессии студентом"
   ]
  },
  {
   "cell_type": "code",
   "execution_count": 29,
   "id": "481a7641",
   "metadata": {},
   "outputs": [],
   "source": [
    "P_B1 = 1/4 #вероятность, что студент учится на факультете A\n",
    "\n",
    "P_B2 = 1/4 #вероятность, что студент учится на факультете B\n",
    "\n",
    "P_B3 = 1/2 #вероятность, что студент учится на факультете C\n",
    "\n",
    "P_A_B1 = 0.8 #вероятность сдачи сессии студента факультета A\n",
    "\n",
    "P_A_B2 = 0.7 #вероятность сдачи сессии студента факультета B\n",
    "\n",
    "P_A_B3 = 0.9 #вероятность сдачи сессии студента факультета C"
   ]
  },
  {
   "cell_type": "code",
   "execution_count": 30,
   "id": "729d7fb6",
   "metadata": {},
   "outputs": [
    {
     "data": {
      "text/plain": [
       "0.825"
      ]
     },
     "execution_count": 30,
     "metadata": {},
     "output_type": "execute_result"
    }
   ],
   "source": [
    "# общая вероятность сдачи сессии для студентов всех факультетов\n",
    "\n",
    "P_A = P_B1 * P_A_B1 + P_B2 * P_A_B2 + P_B3 * P_A_B3\n",
    "\n",
    "P_A"
   ]
  },
  {
   "cell_type": "code",
   "execution_count": 31,
   "id": "a57e73ad",
   "metadata": {},
   "outputs": [
    {
     "data": {
      "text/plain": [
       "0.24242424242424246"
      ]
     },
     "execution_count": 31,
     "metadata": {},
     "output_type": "execute_result"
    }
   ],
   "source": [
    "#a).какая вероятность, что студент учится на на факультете A \n",
    "\n",
    "P_B1_A = (P_B1 * P_A_B1) / P_A\n",
    "\n",
    "P_B1_A"
   ]
  },
  {
   "cell_type": "code",
   "execution_count": 32,
   "id": "c1c37b80",
   "metadata": {},
   "outputs": [
    {
     "data": {
      "text/plain": [
       "0.21212121212121213"
      ]
     },
     "execution_count": 32,
     "metadata": {},
     "output_type": "execute_result"
    }
   ],
   "source": [
    "#б).какая вероятность, что студент учится на на факультете B\n",
    "\n",
    "P_B2_A = (P_B2 * P_A_B2) / P_A\n",
    "\n",
    "P_B2_A"
   ]
  },
  {
   "cell_type": "code",
   "execution_count": 33,
   "id": "0cb705f5",
   "metadata": {},
   "outputs": [
    {
     "data": {
      "text/plain": [
       "0.5454545454545455"
      ]
     },
     "execution_count": 33,
     "metadata": {},
     "output_type": "execute_result"
    }
   ],
   "source": [
    "#в).какая вероятность, что студент учится на на факультете C\n",
    "\n",
    "P_B3_A = (P_B3 * P_A_B3) / P_A\n",
    "\n",
    "P_B3_A"
   ]
  },
  {
   "cell_type": "markdown",
   "id": "59016d71",
   "metadata": {},
   "source": [
    "5. Устройство состоит из трех деталей. Для первой детали вероятность выйти из строя в первый месяц равна 0.1, для второй - 0.2, для третьей - 0.25. \n",
    "Какова вероятность того, что в первый месяц выйдут из строя: \n",
    "а). все детали б). только две детали в). хотя бы одна деталь г). от одной до двух деталей?"
   ]
  },
  {
   "cell_type": "code",
   "execution_count": 34,
   "id": "9e2a08df",
   "metadata": {},
   "outputs": [
    {
     "data": {
      "text/plain": [
       "0.005000000000000001"
      ]
     },
     "execution_count": 34,
     "metadata": {},
     "output_type": "execute_result"
    }
   ],
   "source": [
    "#а).вероятность, что из строя выйдут все детали \n",
    "\n",
    "P_all = 0.1 * 0.2 * 0.25\n",
    "P_all"
   ]
  },
  {
   "cell_type": "code",
   "execution_count": 35,
   "id": "6db41477",
   "metadata": {},
   "outputs": [
    {
     "data": {
      "text/plain": [
       "0.045000000000000005"
      ]
     },
     "execution_count": 35,
     "metadata": {},
     "output_type": "execute_result"
    }
   ],
   "source": [
    "#б). только две детали \n",
    "P_B1 = 0.1\n",
    "P_B2 = 0.2\n",
    "P_B3 = 0.25\n",
    "\n",
    "#1 вариант (первая деталь цела, остальные сломались)\n",
    "var_1 = (1 - P_B1) * P_B2 * P_B3 \n",
    "var_1 "
   ]
  },
  {
   "cell_type": "code",
   "execution_count": 36,
   "id": "a70804b6",
   "metadata": {},
   "outputs": [
    {
     "data": {
      "text/plain": [
       "0.020000000000000004"
      ]
     },
     "execution_count": 36,
     "metadata": {},
     "output_type": "execute_result"
    }
   ],
   "source": [
    "#2 вариант (вторая деталь цела, остальные сломались)\n",
    "var_2 = (1 - P_B2) * P_B1 * P_B3 \n",
    "var_2"
   ]
  },
  {
   "cell_type": "code",
   "execution_count": 37,
   "id": "4327b951",
   "metadata": {},
   "outputs": [
    {
     "data": {
      "text/plain": [
       "0.015000000000000003"
      ]
     },
     "execution_count": 37,
     "metadata": {},
     "output_type": "execute_result"
    }
   ],
   "source": [
    "#3 вариант (третья деталь цела, остальные сломались)\n",
    "var_3 = (1 - P_B3) * P_B1 * P_B2\n",
    "var_3"
   ]
  },
  {
   "cell_type": "code",
   "execution_count": 38,
   "id": "97d71da5",
   "metadata": {},
   "outputs": [
    {
     "data": {
      "text/plain": [
       "0.08"
      ]
     },
     "execution_count": 38,
     "metadata": {},
     "output_type": "execute_result"
    }
   ],
   "source": [
    "P_2_pieces = var_1 + var_2 + var_3\n",
    "\n",
    "P_2_pieces"
   ]
  },
  {
   "cell_type": "code",
   "execution_count": 39,
   "id": "176ef976",
   "metadata": {},
   "outputs": [
    {
     "data": {
      "text/plain": [
       "0.45999999999999996"
      ]
     },
     "execution_count": 39,
     "metadata": {},
     "output_type": "execute_result"
    }
   ],
   "source": [
    "#в). хотя бы одна деталь \n",
    "# 1 - вероятность, что ни одна деталь не сломалась.\n",
    "P_none =  (1 - P_B3) * (1 - P_B1) * (1 - P_B2) \n",
    "\n",
    "P_at_least_one = 1 - P_none\n",
    "P_at_least_one"
   ]
  },
  {
   "cell_type": "code",
   "execution_count": 40,
   "id": "23ba0793",
   "metadata": {},
   "outputs": [
    {
     "data": {
      "text/plain": [
       "0.06000000000000001"
      ]
     },
     "execution_count": 40,
     "metadata": {},
     "output_type": "execute_result"
    }
   ],
   "source": [
    "# г). от одной до двух деталей?\n",
    "# или одна или две\n",
    "# найдем вероятность, что сломается одна деталь. \n",
    "\n",
    "#1 вариант (первая сломалась, остальные целы)\n",
    "var_1_1 = P_B1 * (1 - P_B2) * (1 - P_B3) \n",
    "var_1_1"
   ]
  },
  {
   "cell_type": "code",
   "execution_count": 41,
   "id": "e2ba501f",
   "metadata": {},
   "outputs": [
    {
     "data": {
      "text/plain": [
       "0.135"
      ]
     },
     "execution_count": 41,
     "metadata": {},
     "output_type": "execute_result"
    }
   ],
   "source": [
    "#2 вариант (вторая сломалась, остальные целы)\n",
    "var_2_1 = P_B2 * (1 - P_B1) * (1 - P_B3) \n",
    "var_2_1 "
   ]
  },
  {
   "cell_type": "code",
   "execution_count": 42,
   "id": "6002d16b",
   "metadata": {},
   "outputs": [
    {
     "data": {
      "text/plain": [
       "0.18000000000000002"
      ]
     },
     "execution_count": 42,
     "metadata": {},
     "output_type": "execute_result"
    }
   ],
   "source": [
    "#3 вариант (третья сломалась, остальные целы)\n",
    "var_3_1 = P_B3 * (1 - P_B1) * (1 - P_B2) \n",
    "var_3_1 "
   ]
  },
  {
   "cell_type": "code",
   "execution_count": 43,
   "id": "fc78dcc4",
   "metadata": {},
   "outputs": [
    {
     "data": {
      "text/plain": [
       "0.375"
      ]
     },
     "execution_count": 43,
     "metadata": {},
     "output_type": "execute_result"
    }
   ],
   "source": [
    "P_1_piece = var_1_1 + var_2_1 + var_3_1\n",
    "\n",
    "P_1_piece"
   ]
  },
  {
   "cell_type": "code",
   "execution_count": 44,
   "id": "95227ab8",
   "metadata": {},
   "outputs": [
    {
     "data": {
      "text/plain": [
       "0.455"
      ]
     },
     "execution_count": 44,
     "metadata": {},
     "output_type": "execute_result"
    }
   ],
   "source": [
    "P_1_or_2 = P_1_piece + P_2_pieces\n",
    "P_1_or_2"
   ]
  },
  {
   "cell_type": "code",
   "execution_count": null,
   "id": "a832ab68",
   "metadata": {},
   "outputs": [],
   "source": []
  }
 ],
 "metadata": {
  "kernelspec": {
   "display_name": "Python 3 (ipykernel)",
   "language": "python",
   "name": "python3"
  },
  "language_info": {
   "codemirror_mode": {
    "name": "ipython",
    "version": 3
   },
   "file_extension": ".py",
   "mimetype": "text/x-python",
   "name": "python",
   "nbconvert_exporter": "python",
   "pygments_lexer": "ipython3",
   "version": "3.9.13"
  }
 },
 "nbformat": 4,
 "nbformat_minor": 5
}
