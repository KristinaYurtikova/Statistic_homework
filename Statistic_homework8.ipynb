{
 "cells": [
  {
   "cell_type": "markdown",
   "id": "7bcef2ac",
   "metadata": {},
   "source": [
    "Даны значения величины заработной платы заемщиков банка (zp) и значения их поведенческого кредитного скоринга (ks):\n",
    "\n",
    "zp = [35, 45, 190, 200, 40, 70, 54, 150, 120, 110],\n",
    "\n",
    "ks = [401, 574, 874, 919, 459, 739, 653, 902, 746, 832].\n",
    "\n",
    "Найдите ковариацию этих двух величин с помощью элементарных действий, а затем с помощью функции cov из numpy\n",
    "\n",
    "Полученные значения должны быть равны.\n",
    "\n",
    "Найдите коэффициент корреляции Пирсона с помощью ковариации и среднеквадратичных отклонений двух признаков, а затем с использованием функций из библиотек numpy и pandas."
   ]
  },
  {
   "cell_type": "code",
   "execution_count": 2,
   "id": "8214f75c",
   "metadata": {},
   "outputs": [],
   "source": [
    "import pandas as pd\n",
    "import numpy as np\n",
    "from statsmodels.stats.weightstats import _tconfint_generic as t_stat\n"
   ]
  },
  {
   "cell_type": "code",
   "execution_count": 3,
   "id": "48e13371",
   "metadata": {},
   "outputs": [],
   "source": [
    "zp = np.array([35, 45, 190, 200, 40, 70, 54, 150, 120, 110])\n",
    "ks = np.array( [401, 574, 874, 919, 459, 739, 653, 902, 746, 832])"
   ]
  },
  {
   "cell_type": "markdown",
   "id": "9f0cb532",
   "metadata": {},
   "source": [
    "Вычислим ковариацию c помощью элементарных действий"
   ]
  },
  {
   "cell_type": "code",
   "execution_count": 4,
   "id": "7f900481",
   "metadata": {},
   "outputs": [],
   "source": [
    "M_X = zp.mean()\n",
    "M_Y = ks.mean()\n",
    "M_XY = (zp * ks).mean()"
   ]
  },
  {
   "cell_type": "code",
   "execution_count": 6,
   "id": "85b906a2",
   "metadata": {},
   "outputs": [
    {
     "data": {
      "text/plain": [
       "9157.839999999997"
      ]
     },
     "execution_count": 6,
     "metadata": {},
     "output_type": "execute_result"
    }
   ],
   "source": [
    "cov_ks = M_XY - M_X * M_Y\n",
    "cov_ks"
   ]
  },
  {
   "cell_type": "markdown",
   "id": "efe0f94e",
   "metadata": {},
   "source": [
    "Вычислим ковариацию с помощью функции cov из numpy"
   ]
  },
  {
   "cell_type": "code",
   "execution_count": 12,
   "id": "9b7b55c2",
   "metadata": {},
   "outputs": [
    {
     "name": "stdout",
     "output_type": "stream",
     "text": [
      "9157.840000000002\n"
     ]
    }
   ],
   "source": [
    "import numpy as np\n",
    "\n",
    "zp = [35, 45, 190, 200, 40, 70, 54, 150, 120, 110]\n",
    "ks = [401, 574, 874, 919, 459, 739, 653, 902, 746, 832]\n",
    "\n",
    "covariance = np.cov(zp, ks, ddof=0)[0, 1]\n",
    "print(covariance)"
   ]
  },
  {
   "cell_type": "markdown",
   "id": "8c779c45",
   "metadata": {},
   "source": [
    "Найдите коэффициент корреляции Пирсона с помощью ковариации и среднеквадратичных отклонений двух признаков, а затем с использованием функций из библиотек numpy и pandas."
   ]
  },
  {
   "cell_type": "code",
   "execution_count": 14,
   "id": "095220d6",
   "metadata": {},
   "outputs": [
    {
     "name": "stdout",
     "output_type": "stream",
     "text": [
      "Коэффициент корреляции Пирсона (с помощью ковариации и среднеквадратичных отклонений): 0.8874900920739163\n",
      "Коэффициент корреляции Пирсона (с помощью функции corrcoef из numpy): 0.8874900920739163\n",
      "Коэффициент корреляции Пирсона (с помощью функции corr из pandas): 0.8874900920739168\n"
     ]
    }
   ],
   "source": [
    "# Импортировать библиотеку numpy и pandas:\n",
    "import numpy as np\n",
    "import pandas as pd\n",
    "\n",
    "\n",
    "# Создать два массива numpy с данными:\n",
    "zp = np.array([35, 45, 190, 200, 40, 70, 54, 150, 120, 110])\n",
    "ks = np.array([401, 574, 874, 919, 459, 739, 653, 902, 746, 832])\n",
    "\n",
    "# Найти ковариацию двух признаков с помощью функции cov из библиотеки numpy:\n",
    "covariance = np.cov(zp, ks, ddof=0)[0, 1]\n",
    "\n",
    "# Найти среднее значение и стандартное отклонение для каждого признака с помощью функций mean и std из библиотеки numpy:\n",
    "mean_zp = np.mean(zp)\n",
    "std_zp = np.std(zp, ddof=0)\n",
    "mean_ks = np.mean(ks)\n",
    "std_ks = np.std(ks, ddof=0)\n",
    "\n",
    "# Найти коэффициент корреляции Пирсона с помощью формулы:\n",
    "pearson = covariance / (std_zp * std_ks)\n",
    "\n",
    "# Найти коэффициент корреляции Пирсона с помощью функции corrcoef из библиотеки numpy:\n",
    "pearson_np = np.corrcoef(zp, ks)[0, 1]\n",
    "\n",
    "# Найти коэффициент корреляции Пирсона с помощью функции corr из библиотеки pandas:\n",
    "data = pd.DataFrame({'zp': zp, 'ks': ks})\n",
    "pearson_pd = data.corr().loc['zp', 'ks']\n",
    "\n",
    "# Вывести значения коэффициента корреляции Пирсона, полученные разными способами:\n",
    "print(\"Коэффициент корреляции Пирсона (с помощью ковариации и среднеквадратичных отклонений):\", pearson)\n",
    "print(\"Коэффициент корреляции Пирсона (с помощью функции corrcoef из numpy):\", pearson_np)\n",
    "print(\"Коэффициент корреляции Пирсона (с помощью функции corr из pandas):\", pearson_pd)"
   ]
  },
  {
   "cell_type": "markdown",
   "id": "f4c59060",
   "metadata": {},
   "source": [
    "Измерены значения IQ выборки студентов,\n",
    "\n",
    "обучающихся в местных технических вузах:\n",
    "\n",
    "131, 125, 115, 122, 131, 115, 107, 99, 125, 111.\n",
    "\n",
    "Известно, что в генеральной совокупности IQ распределен нормально.\n",
    "\n",
    "Найдите доверительный интервал для математического ожидания с надежностью 0.95."
   ]
  },
  {
   "cell_type": "code",
   "execution_count": 15,
   "id": "8188b697",
   "metadata": {},
   "outputs": [],
   "source": [
    "import numpy as np\n",
    "\n",
    "sample = np.array([131, 125, 115, 122, 131, 115, 107, 99, 125, 111])\n",
    "n = len(sample)\n",
    "mean = np.mean(sample)\n",
    "std_dev = np.std(sample, ddof=1)  # исправленное стандартное отклонение"
   ]
  },
  {
   "cell_type": "code",
   "execution_count": 16,
   "id": "5c0315dd",
   "metadata": {},
   "outputs": [
    {
     "name": "stdout",
     "output_type": "stream",
     "text": [
      "Доверительный интервал: (110.56, 125.64)\n"
     ]
    }
   ],
   "source": [
    "import scipy.stats as stats\n",
    "\n",
    "confidence_level = 0.95\n",
    "alpha = 1 - confidence_level\n",
    "t = stats.t.ppf(1 - alpha / 2, df=n-1)  # критическое значение t-статистики\n",
    "\n",
    "lower = mean - t * std_dev / np.sqrt(n)\n",
    "upper = mean + t * std_dev / np.sqrt(n)\n",
    "\n",
    "print(\"Доверительный интервал: ({:.2f}, {:.2f})\".format(lower, upper))"
   ]
  },
  {
   "cell_type": "markdown",
   "id": "d4102e20",
   "metadata": {},
   "source": [
    "Известно, что рост футболистов в сборной распределен нормально с дисперсией генеральной совокупности, равной 25 кв.см. Объем выборки равен 27, среднее выборочное составляет 174.2. Найдите доверительный интервал для математического ожидания с надежностью 0.95."
   ]
  },
  {
   "cell_type": "code",
   "execution_count": 17,
   "id": "fd9c10a5",
   "metadata": {},
   "outputs": [
    {
     "name": "stdout",
     "output_type": "stream",
     "text": [
      "Доверительный интервал: [172.2220658754539, 176.17793412454608]\n"
     ]
    }
   ],
   "source": [
    "from scipy.stats import t\n",
    "import math\n",
    "\n",
    "# Заданные параметры\n",
    "n = 27\n",
    "mean = 174.2\n",
    "stddev_population = math.sqrt(25)\n",
    "alpha = 0.05\n",
    "\n",
    "# Находим критическое значение t-статистики\n",
    "df = n - 1\n",
    "t_critical = t.ppf(1 - alpha/2, df)\n",
    "\n",
    "# Находим границы доверительного интервала\n",
    "margin_of_error = t_critical * stddev_population / math.sqrt(n)\n",
    "lower_bound = mean - margin_of_error\n",
    "upper_bound = mean + margin_of_error\n",
    "\n",
    "# Выводим результаты\n",
    "print(f'Доверительный интервал: [{lower_bound}, {upper_bound}]')"
   ]
  },
  {
   "cell_type": "code",
   "execution_count": null,
   "id": "73ac3b67",
   "metadata": {},
   "outputs": [],
   "source": []
  }
 ],
 "metadata": {
  "kernelspec": {
   "display_name": "Python 3 (ipykernel)",
   "language": "python",
   "name": "python3"
  },
  "language_info": {
   "codemirror_mode": {
    "name": "ipython",
    "version": 3
   },
   "file_extension": ".py",
   "mimetype": "text/x-python",
   "name": "python",
   "nbconvert_exporter": "python",
   "pygments_lexer": "ipython3",
   "version": "3.9.13"
  }
 },
 "nbformat": 4,
 "nbformat_minor": 5
}
