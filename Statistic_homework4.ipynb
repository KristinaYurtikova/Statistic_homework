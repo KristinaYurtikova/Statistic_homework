{
 "cells": [
  {
   "cell_type": "markdown",
   "id": "f2327c45",
   "metadata": {},
   "source": [
    "1. Случайная непрерывная величина A имеет равномерное распределение на промежутке (200, 800].\n",
    "Найдите ее среднее значение и дисперсию."
   ]
  },
  {
   "cell_type": "markdown",
   "id": "1cf81eef",
   "metadata": {},
   "source": [
    "Математическое ожидание M (X) равномерно распределенной непрерывной случайной величины можно вычислить по формуле:"
   ]
  },
  {
   "cell_type": "markdown",
   "id": "a4d9638f",
   "metadata": {},
   "source": [
    "M(X) = \\frac{a + b}{2}"
   ]
  },
  {
   "cell_type": "code",
   "execution_count": 1,
   "id": "a88f6ae6",
   "metadata": {},
   "outputs": [
    {
     "data": {
      "text/plain": [
       "500.0"
      ]
     },
     "execution_count": 1,
     "metadata": {},
     "output_type": "execute_result"
    }
   ],
   "source": [
    "M_X = (200 + 800) / 2\n",
    "M_X"
   ]
  },
  {
   "cell_type": "markdown",
   "id": "36750881",
   "metadata": {},
   "source": [
    "По следующей формуле можно рассчитать дисперсию D(X):"
   ]
  },
  {
   "cell_type": "markdown",
   "id": "4d21d8d9",
   "metadata": {},
   "source": [
    "D(X) = \\frac{(b - a)^2}{12}"
   ]
  },
  {
   "cell_type": "code",
   "execution_count": 3,
   "id": "b69c8e23",
   "metadata": {},
   "outputs": [
    {
     "data": {
      "text/plain": [
       "30000.0"
      ]
     },
     "execution_count": 3,
     "metadata": {},
     "output_type": "execute_result"
    }
   ],
   "source": [
    "D_X = ((800 - 200) ** 2) / 12\n",
    "D_X"
   ]
  },
  {
   "cell_type": "markdown",
   "id": "e60af3e1",
   "metadata": {},
   "source": [
    "2. О случайной непрерывной равномерно распределенной величине B известно, что ее дисперсия равна 0.2.\n",
    "Можно ли найти правую границу величины B и ее среднее значение зная, что левая граница равна 0.5?\n",
    "\n",
    "Если да, найдите ее."
   ]
  },
  {
   "cell_type": "markdown",
   "id": "a2ce0c17",
   "metadata": {},
   "source": [
    "D(B) = 0.2\n",
    "\n",
    "a = 0.05\n",
    "\n",
    "Нужно найти b и среднее значение (математическое ожидание) M(B)\n",
    "\n",
    "По следующей формуле можно рассчитать дисперсию <math xmlns=\"http://www.w3.org/1998/Math/MathML\">\n",
    "  <mi>D</mi>\n",
    "  <mo stretchy=\"false\">(</mo>\n",
    "  <mi>B</mi>\n",
    "  <mo stretchy=\"false\">)</mo>\n",
    "</math>"
   ]
  },
  {
   "cell_type": "markdown",
   "id": "b12d79bb",
   "metadata": {},
   "source": [
    "D(B) = \\frac{(b - a)^2}{12}"
   ]
  },
  {
   "cell_type": "markdown",
   "id": "ccc9101c",
   "metadata": {},
   "source": [
    "Чтобы найти правую границу решим уравнение:\n",
    "\n",
    " \n"
   ]
  },
  {
   "cell_type": "markdown",
   "id": "214388fb",
   "metadata": {},
   "source": [
    "\\frac{(b - 0.5)^2}{12}= 0.2"
   ]
  },
  {
   "cell_type": "markdown",
   "id": "00580e72",
   "metadata": {},
   "source": [
    "b - 0.5 = \\pm \\sqrt{2.4}  \\approx  \\pm 1.55"
   ]
  },
  {
   "cell_type": "markdown",
   "id": "fa47bdcc",
   "metadata": {},
   "source": [
    "Так как речь идет о правой границе величины, а левая граница равна a = 0.05, то b = 1.55"
   ]
  },
  {
   "cell_type": "markdown",
   "id": "81bbd713",
   "metadata": {},
   "source": [
    "M(B) = \\frac{a + b}{2}"
   ]
  },
  {
   "cell_type": "code",
   "execution_count": 7,
   "id": "8122abbf",
   "metadata": {},
   "outputs": [
    {
     "data": {
      "text/plain": [
       "0.8"
      ]
     },
     "execution_count": 7,
     "metadata": {},
     "output_type": "execute_result"
    }
   ],
   "source": [
    "M_B = (0.05 + 1.55) / 2\n",
    "\n",
    "M_B"
   ]
  },
  {
   "cell_type": "markdown",
   "id": "0381ed63",
   "metadata": {},
   "source": [
    "Непрерывная случайная величина X распределена нормально и задана плотностью распределения\n",
    "f(x) = (1 / (4 * sqrt(2pi))) * exp((-(x+2)**2) / 32)\n",
    "\n",
    "Найдите:\n",
    "\n",
    "а). M(X)\n",
    "\n",
    "б). D(X)\n",
    "\n",
    "в). std(X) (среднее квадратичное отклонение)"
   ]
  },
  {
   "cell_type": "markdown",
   "id": "481ba0de",
   "metadata": {},
   "source": [
    "Нормальное распределение — это распределение вероятностей непрерывной случайной величины, \n",
    "плотность вероятности которой подчиняется формуле:"
   ]
  },
  {
   "cell_type": "markdown",
   "id": "1be5878f",
   "metadata": {},
   "source": [
    "f(x) = \\frac{1}{\\sigma \\sqrt{2 \\pi}} e ^ {- \\frac{(x - a)^2}{2 \\sigma^2}},"
   ]
  },
  {
   "cell_type": "markdown",
   "id": "80830501",
   "metadata": {},
   "source": [
    "где <math xmlns=\"http://www.w3.org/1998/Math/MathML\">\n",
    "  <mi>a</mi>\n",
    "  <mo>=</mo>\n",
    "  <mi>M</mi>\n",
    "  <mo stretchy=\"false\">(</mo>\n",
    "  <mi>X</mi>\n",
    "  <mo stretchy=\"false\">)</mo>\n",
    "  <mo>,</mo>\n",
    "  <mstyle>\n",
    "    <mspace width=\"0.278em\"></mspace>\n",
    "  </mstyle>\n",
    "  <msup>\n",
    "    <mi>&#x3C3;</mi>\n",
    "    <mn>2</mn>\n",
    "  </msup>\n",
    "  <mo>=</mo>\n",
    "  <mi>D</mi>\n",
    "  <mo stretchy=\"false\">(</mo>\n",
    "  <mi>X</mi>\n",
    "  <mo stretchy=\"false\">)</mo>\n",
    "  <mo>.</mo>\n",
    "</math>"
   ]
  },
  {
   "cell_type": "markdown",
   "id": "823dc14d",
   "metadata": {},
   "source": [
    "Плотность распределения по задаче: f(x) = (1 / (4 * sqrt(2pi))) * exp((-(x+2)**2) / 32"
   ]
  },
  {
   "cell_type": "markdown",
   "id": "d4fc4f0c",
   "metadata": {},
   "source": [
    "Перепишем формулу:"
   ]
  },
  {
   "cell_type": "markdown",
   "id": "e399581d",
   "metadata": {},
   "source": [
    "f(x) = \\frac{1}{4 \\sqrt{2 \\pi}} e ^ {- \\frac{(x + 2)^2}{32}}"
   ]
  },
  {
   "cell_type": "markdown",
   "id": "2febb5c6",
   "metadata": {},
   "source": [
    "а) M(X) = a = -2\n",
    "б) D(X) = 32/2 = 16\n",
    "в) std(X) (среднее квадратичное отклонение) = 4"
   ]
  },
  {
   "cell_type": "markdown",
   "id": "3b568615",
   "metadata": {},
   "source": [
    "4. Рост взрослого населения города X имеет нормальное распределение.\n",
    "Причем, средний рост равен 174 см, а среднее квадратичное отклонение равно 8 см.\n",
    "\n",
    "Какова вероятность того, что случайным образом выбранный взрослый человек имеет рост:\n",
    "\n",
    "а). больше 182 см\n",
    "\n",
    "б). больше 190 см\n",
    "\n",
    "в). от 166 см до 190 см\n",
    "\n",
    "г). от 166 см до 182 см\n",
    "\n",
    "д). от 158 см до 190 см\n",
    "\n",
    "е). не выше 150 см или не ниже 190 см\n",
    "\n",
    "ё). не выше 150 см или не ниже 198 см\n",
    "\n",
    "ж). ниже 166 см."
   ]
  },
  {
   "cell_type": "markdown",
   "id": "0bb1af96",
   "metadata": {},
   "source": [
    "а). больше 182 см"
   ]
  },
  {
   "cell_type": "code",
   "execution_count": 9,
   "id": "07dbfd80",
   "metadata": {},
   "outputs": [
    {
     "data": {
      "text/plain": [
       "0.15999999999999998"
      ]
     },
     "execution_count": 9,
     "metadata": {},
     "output_type": "execute_result"
    }
   ],
   "source": [
    "#По правилу трех сигм\n",
    "\n",
    "A = 1 - 0.5 - (0.68 / 2) \n",
    "A"
   ]
  },
  {
   "cell_type": "markdown",
   "id": "3aab947e",
   "metadata": {},
   "source": [
    "б). больше 190 см\n"
   ]
  },
  {
   "cell_type": "code",
   "execution_count": 11,
   "id": "ee47b7d4",
   "metadata": {},
   "outputs": [
    {
     "data": {
      "text/plain": [
       "2.0"
      ]
     },
     "execution_count": 11,
     "metadata": {},
     "output_type": "execute_result"
    }
   ],
   "source": [
    "\n",
    "#Нормализация\n",
    "Z = (190 - 174) / 8\n",
    "Z"
   ]
  },
  {
   "cell_type": "code",
   "execution_count": 12,
   "id": "256ba9cd",
   "metadata": {},
   "outputs": [],
   "source": [
    "P = 0.0228"
   ]
  },
  {
   "cell_type": "markdown",
   "id": "f9375f7d",
   "metadata": {},
   "source": [
    "в). от 166 см до 190 см"
   ]
  },
  {
   "cell_type": "code",
   "execution_count": 14,
   "id": "1cbdf4b6",
   "metadata": {},
   "outputs": [
    {
     "data": {
      "text/plain": [
       "81.72"
      ]
     },
     "execution_count": 14,
     "metadata": {},
     "output_type": "execute_result"
    }
   ],
   "source": [
    "#По правилу трех сигм от 166 см до 182 см лежит 68% наблюдений\n",
    "P_1 = 68 + ((95.44 - 68) / 2)\n",
    "P_1"
   ]
  },
  {
   "cell_type": "code",
   "execution_count": 15,
   "id": "f9dd312c",
   "metadata": {},
   "outputs": [
    {
     "data": {
      "text/plain": [
       "-1.0"
      ]
     },
     "execution_count": 15,
     "metadata": {},
     "output_type": "execute_result"
    }
   ],
   "source": [
    "# через нормализацию\n",
    "# найдем вероятность значения больше 166\n",
    "Z_166 = (166 - 174) / 8\n",
    "Z_166 "
   ]
  },
  {
   "cell_type": "code",
   "execution_count": 16,
   "id": "4d70117b",
   "metadata": {},
   "outputs": [
    {
     "data": {
      "text/plain": [
       "2.0"
      ]
     },
     "execution_count": 16,
     "metadata": {},
     "output_type": "execute_result"
    }
   ],
   "source": [
    "P_166 = 0.8413\n",
    "# найдем вероятность значения больше 190 см\n",
    "Z_190 = (190 - 174) / 8\n",
    "Z_190"
   ]
  },
  {
   "cell_type": "code",
   "execution_count": 17,
   "id": "ff12d2b8",
   "metadata": {},
   "outputs": [
    {
     "data": {
      "text/plain": [
       "0.8185"
      ]
     },
     "execution_count": 17,
     "metadata": {},
     "output_type": "execute_result"
    }
   ],
   "source": [
    "P_190 = 0.0228\n",
    "P = P_166 - P_190\n",
    "P"
   ]
  },
  {
   "cell_type": "markdown",
   "id": "e841153a",
   "metadata": {},
   "source": [
    "г). от 166 см до 182 см\n",
    "По правилу трех сигм в данном промежутке лежит 68% наблюдений, так как 174 + 8 = 182, 174 - 8 = 166.\n",
    "\n",
    "д). от 158 см до 190 см\n",
    "По правилу трех сигм в данном промежутке лежит 95.4% наблюдений, так как 174 + 2*8 = 190, 174 - 8 = 158."
   ]
  },
  {
   "cell_type": "markdown",
   "id": "e1212849",
   "metadata": {},
   "source": [
    "е). не выше 150 см или не ниже 190 см"
   ]
  },
  {
   "cell_type": "code",
   "execution_count": 18,
   "id": "f3bc5a78",
   "metadata": {},
   "outputs": [
    {
     "data": {
      "text/plain": [
       "-3.0"
      ]
     },
     "execution_count": 18,
     "metadata": {},
     "output_type": "execute_result"
    }
   ],
   "source": [
    "#меньше или равно 150 и больше или равно 190\n",
    "# Больше 190 - это мы считали в задании б) \n",
    "P_190 = 0.0228\n",
    "# найдем вероятность значения меньше или равно 150 \n",
    "Z_150 = (150 - 174) / 8\n",
    "Z_150"
   ]
  },
  {
   "cell_type": "code",
   "execution_count": 19,
   "id": "ed770484",
   "metadata": {},
   "outputs": [
    {
     "data": {
      "text/plain": [
       "0.0242"
      ]
     },
     "execution_count": 19,
     "metadata": {},
     "output_type": "execute_result"
    }
   ],
   "source": [
    "P_150 = 0.0014\n",
    "P_2 = P_190 + P_150\n",
    "P_2"
   ]
  },
  {
   "cell_type": "markdown",
   "id": "4eb67ebb",
   "metadata": {},
   "source": [
    "ё). не выше 150 см или не ниже 198 см"
   ]
  },
  {
   "cell_type": "code",
   "execution_count": 21,
   "id": "8b081814",
   "metadata": {},
   "outputs": [
    {
     "data": {
      "text/plain": [
       "3.0"
      ]
     },
     "execution_count": 21,
     "metadata": {},
     "output_type": "execute_result"
    }
   ],
   "source": [
    "P_150 = 0.0014\n",
    "Z_198 = (198 - 174) / 8\n",
    "Z_198"
   ]
  },
  {
   "cell_type": "code",
   "execution_count": 22,
   "id": "80586868",
   "metadata": {},
   "outputs": [
    {
     "data": {
      "text/plain": [
       "0.0028"
      ]
     },
     "execution_count": 22,
     "metadata": {},
     "output_type": "execute_result"
    }
   ],
   "source": [
    "P_198 = 0.0014\n",
    "\n",
    "P_3 = P_150 + P_198\n",
    "\n",
    "P_3"
   ]
  },
  {
   "cell_type": "markdown",
   "id": "40c438f4",
   "metadata": {},
   "source": [
    "ж). ниже 166 см."
   ]
  },
  {
   "cell_type": "code",
   "execution_count": 23,
   "id": "22bebbd6",
   "metadata": {},
   "outputs": [
    {
     "data": {
      "text/plain": [
       "0.1587"
      ]
     },
     "execution_count": 23,
     "metadata": {},
     "output_type": "execute_result"
    }
   ],
   "source": [
    "P_166 = 0.5 - 0.6826 / 2 \n",
    "P_166"
   ]
  },
  {
   "cell_type": "code",
   "execution_count": 24,
   "id": "178dbb6e",
   "metadata": {},
   "outputs": [
    {
     "data": {
      "text/plain": [
       "-1.0"
      ]
     },
     "execution_count": 24,
     "metadata": {},
     "output_type": "execute_result"
    }
   ],
   "source": [
    "#через нормализацию \n",
    "\n",
    "Z_166 = (166 - 174) / 8\n",
    "Z_166"
   ]
  },
  {
   "cell_type": "code",
   "execution_count": 25,
   "id": "1f1dd417",
   "metadata": {},
   "outputs": [],
   "source": [
    "\n",
    "P_166 = 0.1587"
   ]
  },
  {
   "cell_type": "markdown",
   "id": "04ce0ca8",
   "metadata": {},
   "source": [
    "5. На сколько сигм (средних квадратичных отклонений) отклоняется рост человека, равный 190 см, от математического ожидания роста в популяции, в которой M(X) = 178 см и D(X) = 25 кв.см?"
   ]
  },
  {
   "cell_type": "code",
   "execution_count": 26,
   "id": "3f3d3a8e",
   "metadata": {},
   "outputs": [
    {
     "data": {
      "text/plain": [
       "2.4"
      ]
     },
     "execution_count": 26,
     "metadata": {},
     "output_type": "execute_result"
    }
   ],
   "source": [
    "Z = (190 - 178) / 5\n",
    "Z"
   ]
  },
  {
   "cell_type": "code",
   "execution_count": null,
   "id": "44ea4c0d",
   "metadata": {},
   "outputs": [],
   "source": []
  }
 ],
 "metadata": {
  "kernelspec": {
   "display_name": "Python 3 (ipykernel)",
   "language": "python",
   "name": "python3"
  },
  "language_info": {
   "codemirror_mode": {
    "name": "ipython",
    "version": 3
   },
   "file_extension": ".py",
   "mimetype": "text/x-python",
   "name": "python",
   "nbconvert_exporter": "python",
   "pygments_lexer": "ipython3",
   "version": "3.9.13"
  }
 },
 "nbformat": 4,
 "nbformat_minor": 5
}
